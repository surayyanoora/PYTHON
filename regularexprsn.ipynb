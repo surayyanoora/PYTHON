{
 "cells": [
  {
   "cell_type": "code",
   "execution_count": 1,
   "id": "251b24f2",
   "metadata": {},
   "outputs": [
    {
     "name": "stdout",
     "output_type": "stream",
     "text": [
      "Requirement already satisfied: regex in c:\\users\\yoga\\anaconda3\\lib\\site-packages (2022.7.9)\n"
     ]
    }
   ],
   "source": [
    "\n",
    "!pip install regex\n",
    "\n"
   ]
  },
  {
   "cell_type": "code",
   "execution_count": 29,
   "id": "9afa7de0",
   "metadata": {},
   "outputs": [
    {
     "name": "stdout",
     "output_type": "stream",
     "text": [
      "Search successful.\n"
     ]
    }
   ],
   "source": [
    "#1. Write a regular expression that matches any email address (e.g. \"example@gmail.com\").\n",
    "\n",
    "import re\n",
    "str = 'example@gmail.com'\n",
    "result = re.match(r'[\\w\\.-]+@[\\w\\.-]+', str) \n",
    "if result:\n",
    "    print(\"Search successful.\")\n",
    "else:\n",
    "    print(\"Search unsuccessful.\")"
   ]
  },
  {
   "cell_type": "code",
   "execution_count": 31,
   "id": "2de85553",
   "metadata": {},
   "outputs": [
    {
     "name": "stdout",
     "output_type": "stream",
     "text": [
      "Match!\n"
     ]
    }
   ],
   "source": [
    "#2. Write a regular expression that matches any date in the format \"YYYY-MM-DD\" (e.g. \"2023-04-13\")\n",
    "import re\n",
    "date =  \"2023-04-13\"\n",
    "result = re.match(\"[0-9]{4}-[0-9]{2}-[0-9]{2}\", date)\n",
    "if result:\n",
    "    print(\"Match!\")\n",
    "else: \n",
    "    print(\"Not a match!\")\n",
    "                    "
   ]
  },
  {
   "cell_type": "code",
   "execution_count": 28,
   "id": "9bdbe3a4",
   "metadata": {},
   "outputs": [
    {
     "name": "stdout",
     "output_type": "stream",
     "text": [
      "Match!\n"
     ]
    }
   ],
   "source": [
    "#3. Write a regular expression that matches any sequence of digits that contains at least one odd digit (e.g. \"12345\").\n",
    "import re\n",
    "\n",
    "str = \"612345\"\n",
    "result = re.match(\".*[13579].*\",str)\n",
    "if result:\n",
    "     print(\"Match!\")\n",
    "else: \n",
    "    print(\"Not a match!\")\n",
    "                    "
   ]
  },
  {
   "cell_type": "code",
   "execution_count": 63,
   "id": "80638a50",
   "metadata": {},
   "outputs": [
    {
     "name": "stdout",
     "output_type": "stream",
     "text": [
      "Match!\n"
     ]
    }
   ],
   "source": [
    "#4. Write a regular expression that matches any string that contains only letters and spaces (e.g. \"Hello world\").\n",
    "import re\n",
    "str = \"Hello world\"\n",
    "result = re.match( \"^[A-Za-z ]*$\",str)\n",
    "if result:\n",
    "    print(\"Match!\")\n",
    "else: \n",
    "    print(\"Not a match!\")\n",
    "                    "
   ]
  },
  {
   "cell_type": "code",
   "execution_count": 42,
   "id": "13174d58",
   "metadata": {},
   "outputs": [
    {
     "name": "stdout",
     "output_type": "stream",
     "text": [
      "Match!\n"
     ]
    }
   ],
   "source": [
    "#5. Write a regular expression that matches any string that starts with a vowel\n",
    "#and ends with a consonant (e.g. \"apple\", \"banana\", \"cherry\").\n",
    "\n",
    "import re\n",
    "str = \"apple\"\n",
    "result = re.match( \"^[aeiouAEIOU].*[bcdfghjklmnpqrstvwxyzBCDFGHJKLMNPQRSTVWXYZ]$\",str)\n",
    "if result:\n",
    "    print(\"Match!\")\n",
    "else: \n",
    "    print(\"Not a match!\")"
   ]
  },
  {
   "cell_type": "code",
   "execution_count": 62,
   "id": "6e5616f5",
   "metadata": {},
   "outputs": [
    {
     "name": "stdout",
     "output_type": "stream",
     "text": [
      "Not a match!\n"
     ]
    }
   ],
   "source": [
    "#6. Write a regular expression that matches any string that contains the word \"python\" (case-insensitive) surrounded by exactly two \n",
    "#word characters on each side (e.g. \"This is a python string\").@\n",
    "\n",
    "import re\n",
    "\n",
    "str  = \"This is python string\"\n",
    "result = re.match('\\b\\w{2}python\\w{2}\\b', str)\n",
    "\n",
    "if result:\n",
    "    print(\"Match!\")\n",
    "else:\n",
    "    print(\"Not a match!\")"
   ]
  },
  {
   "cell_type": "code",
   "execution_count": 71,
   "id": "4e3aad4e",
   "metadata": {},
   "outputs": [
    {
     "name": "stdout",
     "output_type": "stream",
     "text": [
      "Match!\n"
     ]
    }
   ],
   "source": [
    "#1. Write a regular expression to match a valid IPv4 address in dotted decimal notation (e.g. \"192.168.1.1\"). Use re.match() to test your regular expression on the string \"192.168.1.1\".\n",
    "#Print the matched string and its starting position.\n",
    "import re\n",
    "str =  \"192.168.1.1\"\n",
    "result = re.match(r'\\b(?:\\d{1,3}\\.){3}\\d{1,3}\\b',str)\n",
    "if result:\n",
    "    print(\"Match!\")\n",
    "else:\n",
    "    print(\"Not a match!\")\n"
   ]
  },
  {
   "cell_type": "code",
   "execution_count": null,
   "id": "5da7e7bf",
   "metadata": {},
   "outputs": [],
   "source": [
    "#Write a regular expression to match a valid date in the format \"YYYY-MM-DD\" (e.g. \"2022-04-13\"). Use re.findall() to test your regular expression on the string \"Today's date is 2022-04-13\". Print the list of matched strings."
   ]
  }
 ],
 "metadata": {
  "kernelspec": {
   "display_name": "Python 3 (ipykernel)",
   "language": "python",
   "name": "python3"
  },
  "language_info": {
   "codemirror_mode": {
    "name": "ipython",
    "version": 3
   },
   "file_extension": ".py",
   "mimetype": "text/x-python",
   "name": "python",
   "nbconvert_exporter": "python",
   "pygments_lexer": "ipython3",
   "version": "3.11.5"
  }
 },
 "nbformat": 4,
 "nbformat_minor": 5
}
