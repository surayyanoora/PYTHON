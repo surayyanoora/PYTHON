{
 "cells": [
  {
   "cell_type": "code",
   "execution_count": 14,
   "id": "c48eb10e",
   "metadata": {},
   "outputs": [
    {
     "name": "stdout",
     "output_type": "stream",
     "text": [
      "enter a no:4\n",
      "The number is positive\n"
     ]
    }
   ],
   "source": [
    "#1-Write a program that takes an integer as input and prints whether it's positive, negative, or zero\n",
    "x=int(input(\"enter a no:\"))\n",
    "if(x>0):\n",
    "    print(\"The number is positive\")\n",
    "elif(x<0):\n",
    "    print(\"The number is negative\")\n",
    "else:\n",
    "    print(\"The number is zero\")"
   ]
  },
  {
   "cell_type": "code",
   "execution_count": 23,
   "id": "b67209b1",
   "metadata": {},
   "outputs": [
    {
     "name": "stdout",
     "output_type": "stream",
     "text": [
      "enter the score:79\n",
      "The score is C\n"
     ]
    }
   ],
   "source": [
    "\"\"\"2-Create a program that takes a student's score as input and prints their corresponding grade based on the following scale:\n",
    "\n",
    "3. 90 or above: A\n",
    "\n",
    "4. 80-89: B\n",
    "\n",
    "5. 70-79: C\n",
    "\n",
    "6. 60-69: D\n",
    "\n",
    "7. Below 60: F\"\"\"\n",
    "\n",
    "score=int(input(\"enter the score:\"))\n",
    "if(score>=90):\n",
    "    print(\"The grade is A \")\n",
    "elif(score>=80 and score<90):\n",
    "         print(\"The grade is B \")\n",
    "elif(score>=70 and score<80):\n",
    "    print(\"The score is C\")\n",
    "elif(score>=60 and score<70):\n",
    "        print(\"The grade is D \")\n",
    "else:\n",
    "    print(\"failed\")"
   ]
  },
  {
   "cell_type": "code",
   "execution_count": 6,
   "id": "0137be57",
   "metadata": {},
   "outputs": [
    {
     "name": "stdout",
     "output_type": "stream",
     "text": [
      "enter person age:60\n",
      "senior citizen\n"
     ]
    }
   ],
   "source": [
    "#3-Create a program that takes a person's age as input and prints whether they are a child (0-12), \n",
    "#teenager (13-19), adult (20-59), or senior (60 and above).\n",
    "\n",
    "age=int(input(\"enter person age:\"))\n",
    "if(age>0 and age<13):\n",
    "    print(\"The person is a child  \")\n",
    "elif(age>12 and age<20):\n",
    "         print(\"The person is teenager \")\n",
    "elif(age>19 and age<60):\n",
    "    print(\"The person is adult\")\n",
    "else:\n",
    "    print(\"senior citizen\")"
   ]
  },
  {
   "cell_type": "code",
   "execution_count": 18,
   "id": "c24ff7a1",
   "metadata": {},
   "outputs": [
    {
     "name": "stdout",
     "output_type": "stream",
     "text": [
      "enter 1st number:4\n",
      "enter 2nd number :3\n",
      "enter 3rd number:2\n",
      "a is largest no\n"
     ]
    }
   ],
   "source": [
    "#4-Write a program that takes three integers as input and prints the largest number among them.\n",
    "a = int(input(\"enter 1st number:\"))\n",
    "b = int(input(\"enter 2nd number :\"))\n",
    "c = int(input(\"enter 3rd number:\"))\n",
    "if(a>b and a>c):\n",
    "    print(\"a is largest no\")\n",
    "elif(b>c):\n",
    "    print(\"b is largest no\")\n",
    "else:\n",
    "    print(\"c is largest no\")\n",
    "    \n"
   ]
  },
  {
   "cell_type": "code",
   "execution_count": 36,
   "id": "59fcf361",
   "metadata": {},
   "outputs": [
    {
     "name": "stdout",
     "output_type": "stream",
     "text": [
      "enter 1st side of triangle2\n",
      "enter 2nd side of triangle3\n",
      "enter 3rd side of triangle4\n",
      "Its a valid triangle\n"
     ]
    }
   ],
   "source": [
    "#5-Create a program that takes three sides of a triangle as input and determines if it's a valid triangle\n",
    "#(sum of any two sides is greater than the third). Print \"Valid\" or \"Invalid\" accordingly.\n",
    "\n",
    "side1=int(input(\"enter 1st side of triangle\"))\n",
    "side2=int(input(\"enter 2nd side of triangle\"))\n",
    "side3=int(input(\"enter 3rd side of triangle\"))\n",
    "\n",
    "x=int(side1+side2)\n",
    "y=int(side2+side3)\n",
    "z=int(side1+side3)\n",
    "\n",
    "if(x>side3 or y>side1 or z>side2):\n",
    "    print(\"Its a valid triangle\")\n",
    "else:\n",
    "    print(\"Its an invalid triangle\")\n",
    "    \n"
   ]
  },
  {
   "cell_type": "code",
   "execution_count": 6,
   "id": "dc0f85b1",
   "metadata": {},
   "outputs": [
    {
     "name": "stdout",
     "output_type": "stream",
     "text": [
      "Enter time in hh:mm format: 13:15\n",
      "The entered time is  ['13', '15']\n",
      "Time entered in 12hrs format already 13 : 15\n",
      "Time after conversion to 12hrs is  1 : 15\n"
     ]
    }
   ],
   "source": [
    "#6-Write a program that takes the time in 24-hour format (e.g., 14:30) as input and converts it to 12-hour format\n",
    "#(e.g., 2:30 PM) and prints the result.\n",
    "\n",
    "time=input(\"Enter time in hh:mm format: \")\n",
    "s=time.split(\":\")\n",
    "print(\"The entered time is \",s)\n",
    "hh=int(s[0])\n",
    "mm=int(s[1])\n",
    "\n",
    "if(hh<1 or hh>24) or (mm<0 or mm>60):\n",
    "    print(\"invalid time\")\n",
    "else:\n",
    "    print(\"Time entered in 12hrs format already\",hh,\":\",mm)\n",
    "    if(hh>12):\n",
    "        hh=hh-12\n",
    "        print(\"Time after conversion to 12hrs is \",hh,\":\",mm)\n",
    "\n",
    "\n"
   ]
  },
  {
   "cell_type": "code",
   "execution_count": 25,
   "id": "295d9bab",
   "metadata": {},
   "outputs": [
    {
     "name": "stdout",
     "output_type": "stream",
     "text": [
      "Enter a letter a\n",
      "Letter is a vowel\n"
     ]
    }
   ],
   "source": [
    "#7-Write a program that takes a character as input and determines if it's a vowel, consonant, or neither.\n",
    "#Print the appropriate message.\n",
    "\n",
    "let=input(\"Enter a letter \")\n",
    "\n",
    "if(let ==\"a\" or let == \"e\" or let ==\"i\" or let ==\"o\" or let==\"u\" or let == \"A\" or let ==\"E\" or\n",
    "   let ==\"I\" or let==\"O\" or let==\"U\"):\n",
    "    print(\"Letter is a vowel\")\n",
    "else:\n",
    "        print(\"Letter is consonaant\")\n",
    "    "
   ]
  },
  {
   "cell_type": "markdown",
   "id": "b26d2f6a",
   "metadata": {},
   "source": [
    "# list"
   ]
  },
  {
   "cell_type": "code",
   "execution_count": 27,
   "id": "b073aabc",
   "metadata": {},
   "outputs": [
    {
     "name": "stdout",
     "output_type": "stream",
     "text": [
      "21\n"
     ]
    }
   ],
   "source": [
    "#1-Find the sum of elements in a list.\n",
    "\n",
    "my_list=[1,2,3,4,5,2,3,1]\n",
    "print(sum(my_list))\n"
   ]
  },
  {
   "cell_type": "code",
   "execution_count": 29,
   "id": "a0ec1b96",
   "metadata": {},
   "outputs": [
    {
     "name": "stdout",
     "output_type": "stream",
     "text": [
      "['e', 'd', 'c', 'b', 'a']\n"
     ]
    }
   ],
   "source": [
    "#2-Create a list of characters. Write a program to reverse the order of the elements in the list without using built-in functions.\n",
    "#Use indexing method.\n",
    "\n",
    "mylist=[\"a\",\"b\",\"c\",\"d\",\"e\"]\n",
    "print(mylist[::-1])"
   ]
  },
  {
   "cell_type": "code",
   "execution_count": 36,
   "id": "7e1714a3",
   "metadata": {},
   "outputs": [
    {
     "name": "stdout",
     "output_type": "stream",
     "text": [
      "['Mike', 'Emma', 'Kelly', 'Brad']\n"
     ]
    }
   ],
   "source": [
    "#3-Remove empty strings from the list of strings without using any loops\n",
    "\n",
    "list1 = [\"Mike\", \"\", \"Emma\", \"Kelly\", \"\", \"Brad\"]\n",
    "for i in list1:\n",
    "    if \"\" in list1:\n",
    "        list1.remove(\"\")\n",
    "print(list1)\n"
   ]
  },
  {
   "cell_type": "code",
   "execution_count": 31,
   "id": "bbdf5419",
   "metadata": {},
   "outputs": [
    {
     "name": "stdout",
     "output_type": "stream",
     "text": [
      "[5000, 6000]\n",
      "[5000, 6000, 7000]\n",
      "[10, 20, [300, 400, [5000, 6000, 7000], 500], 30, 40]\n"
     ]
    }
   ],
   "source": [
    "#4-Write a program to add item 7000 after 6000 in the following Python List\n",
    "\n",
    "list1 = [10, 20, [300, 400, [5000, 6000], 500], 30, 40]\n",
    "list2=list1[2][2]\n",
    "print(list2)\n",
    "list2.append(7000)\n",
    "print(list2)\n",
    "print(list1)\n",
    "\n"
   ]
  },
  {
   "cell_type": "code",
   "execution_count": 21,
   "id": "aa2f716f",
   "metadata": {},
   "outputs": [
    {
     "name": "stdout",
     "output_type": "stream",
     "text": [
      "3\n",
      "[5, 10, 15, 200, 25, 50, 20]\n"
     ]
    }
   ],
   "source": [
    "#5-You have given a Python list. Write a program to find value 20 in the list, and if it is present, replace it with 200.\n",
    "#Only update the first occurrence of an item.\n",
    "\n",
    "#Expected output:\n",
    "\n",
    "#[5, 10, 15, 200, 25, 50, 20]\n",
    "\n",
    "list1 = [5, 10, 15, 20, 25, 50, 20]\n",
    "if 20 in list1:\n",
    "    index = list1.index(20)\n",
    "    print(index)\n",
    "    list1[index] = 200\n",
    "print(list1)\n"
   ]
  },
  {
   "cell_type": "code",
   "execution_count": 43,
   "id": "597afec5",
   "metadata": {},
   "outputs": [
    {
     "name": "stdout",
     "output_type": "stream",
     "text": [
      "[2, 3, 4, 5, 6, 8, 15]\n",
      "13\n"
     ]
    }
   ],
   "source": [
    "#6-Create a list of numbers. Write a program to find the range \n",
    "#(difference between the largest and smallest element) of the list.\n",
    "list1=[2,3,4,6,8,15,5]\n",
    "list1.sort()\n",
    "print(list1)\n",
    "z=list1[-1]-list1[0]\n",
    "print(z)"
   ]
  },
  {
   "cell_type": "code",
   "execution_count": 54,
   "id": "a122ac64",
   "metadata": {
    "scrolled": true
   },
   "outputs": [
    {
     "name": "stdout",
     "output_type": "stream",
     "text": [
      "\n",
      "Times each element appears:\n",
      "1: 3\n",
      "2: 2\n",
      "3: 2\n",
      "4: 3\n",
      "5: 1\n",
      "7: 1\n"
     ]
    }
   ],
   "source": [
    "#7-Create a list of random numbers. Write a program to count how many times each element appears in the list.\n",
    "#1-3,2-2,3-2,4-3,5-1,7-1\n",
    "list1 = [1, 2, 3, 1, 4, 2, 4, 3, 5, 4, 7, 1]\n",
    "counts = {}\n",
    "for num in set(list1):  # Using set() to get unique elements\n",
    "    count = list1.count(num)\n",
    "    counts[num] = count\n",
    "\n",
    "# Print the counts\n",
    "print(\"\\nTimes each element appears:\")\n",
    "for i, count in counts.items():\n",
    "    print(f\"{i}: {count}\")\n"
   ]
  },
  {
   "cell_type": "code",
   "execution_count": 71,
   "id": "f0848c74",
   "metadata": {},
   "outputs": [
    {
     "name": "stdout",
     "output_type": "stream",
     "text": [
      "Enter the position=4\n",
      "Enter new element=1\n",
      "[1, 2, 3, 1, 1, 2, 4, 3, 5, 4, 6, 1]\n"
     ]
    }
   ],
   "source": [
    "#### -Create a list of numbers. Write a program to insert a new element at a specific position in the list.\n",
    "list1 = [1, 2, 3, 1, 4, 2, 4, 3, 5, 4, 6, 1]\n",
    "n=int(input(\"Enter the position=\"))\n",
    "x=int(input(\"Enter new element=\"))\n",
    "if(n<=len(list1)):\n",
    "    list1[n]=x\n",
    "    print(list1)\n",
    "else:\n",
    "    print(\"out of range\")"
   ]
  },
  {
   "cell_type": "code",
   "execution_count": null,
   "id": "de810743",
   "metadata": {},
   "outputs": [],
   "source": []
  },
  {
   "cell_type": "markdown",
   "id": "58654f18",
   "metadata": {},
   "source": [
    "# tuple"
   ]
  },
  {
   "cell_type": "code",
   "execution_count": 35,
   "id": "ada234b1",
   "metadata": {},
   "outputs": [
    {
     "name": "stdout",
     "output_type": "stream",
     "text": [
      "7 is maximum vlue\n",
      " 1 is minimum value\n"
     ]
    }
   ],
   "source": [
    "#1-Write a Python program to find the maximum and minimum values in a tuple of integers.\n",
    "x = (5,4,6,1,2,7,4,3)\n",
    "m1=max(x)\n",
    "m2=min(x)\n",
    "print(m1,\"is maximum vlue\\n\",m2,\"is minimum value\")"
   ]
  },
  {
   "cell_type": "code",
   "execution_count": 58,
   "id": "761eac8e",
   "metadata": {},
   "outputs": [
    {
     "name": "stdout",
     "output_type": "stream",
     "text": [
      "\n",
      "Times each element appears:\n",
      "5: 1\n",
      "4: 2\n",
      "6: 1\n",
      "1: 3\n",
      "2: 3\n",
      "3: 1\n"
     ]
    }
   ],
   "source": [
    "#2-Write a Python program to count the number of occurrences of an element in a tuple.\n",
    "x = (5,4,6,1,2,4,3,1,2,1,2)\n",
    "z=list(x)\n",
    "\n",
    "counts={}\n",
    "for num in z: \n",
    "    count = z.count(num)\n",
    "    counts[num] = count\n",
    "\n",
    "# Print the counts\n",
    "print(\"\\nTimes each element appears:\")\n",
    "for i, count in counts.items():\n",
    "    print(f\"{i}: {count}\")\n",
    "\n"
   ]
  },
  {
   "cell_type": "code",
   "execution_count": 68,
   "id": "736270c4",
   "metadata": {},
   "outputs": [
    {
     "name": "stdout",
     "output_type": "stream",
     "text": [
      "{1: 'one', 2: 'two', 3: 'three', 4: 'four', 5: 'five'}\n"
     ]
    }
   ],
   "source": [
    "#3-Write a Python program to convert a list of tuples into a dictionary\n",
    "x = ((1, 'one'), (2, 'two'), (3, 'three'),(4, 'four'),(5, 'five'))\n",
    "x_dict = dict(x)\n",
    "print(x_dict)"
   ]
  },
  {
   "cell_type": "code",
   "execution_count": 12,
   "id": "5ff746d2",
   "metadata": {},
   "outputs": [
    {
     "name": "stdout",
     "output_type": "stream",
     "text": [
      "Enter the subtuple size4\n",
      "(1, 2, 3, 4)\n",
      "(5, 6, 7, 33)\n",
      "(45, 56, 7, 9)\n",
      "(0, 2, 5, 6)\n",
      "(4, 7, 1, 2)\n",
      "(3,)\n"
     ]
    }
   ],
   "source": [
    "#4=Write a Python program to slice a tuple into multiple sub-tuples based on a given size\n",
    "x = (1,2,3,4,5,6,7,33,45,56,7,9,0,2,5,6,4,7,1,2,3)\n",
    "n=int(input(\"Enter the subtuple size\"))\n",
    "for i in range(0,len(x),n):\n",
    "    result = tuple(x[i:i+n])\n",
    "    print(result)\n",
    "    "
   ]
  },
  {
   "cell_type": "code",
   "execution_count": 22,
   "id": "699182f0",
   "metadata": {},
   "outputs": [
    {
     "name": "stdout",
     "output_type": "stream",
     "text": [
      "(1, 2, 3, 4, 5, 6, (7, 33, (45, 56, 7), 9, 0, 2), 5, 6, 4, 7, 1, 2, 3)\n",
      "(45, 56, 7)\n",
      "7\n",
      "9\n"
     ]
    }
   ],
   "source": [
    "#5-Write a Python program to create a nested tuple and access an element from it.\n",
    "\n",
    "x = tuple((1,2,3,4,5,6,(7,33,(45,56,7),9,0,2),5,6,4,7,1,2,3))\n",
    "print(x)\n",
    "print(x[6][2])\n",
    "print(x[6][2][2])\n",
    "print(x[6][3])"
   ]
  },
  {
   "cell_type": "code",
   "execution_count": 30,
   "id": "8ebcf915",
   "metadata": {},
   "outputs": [
    {
     "name": "stdout",
     "output_type": "stream",
     "text": [
      "[2, 3, 4, 5, 6, 7, 33, 45, 56]\n"
     ]
    }
   ],
   "source": [
    "#6-Write a Python program to remove an element from a tuple.\n",
    "x = (1,2,3,4,5,6,7,33,45,56)\n",
    "w=list(x)\n",
    "w.remove(1)\n",
    "x=tuple(w)\n",
    "print(w)\n"
   ]
  },
  {
   "cell_type": "code",
   "execution_count": 33,
   "id": "2e1582a2",
   "metadata": {},
   "outputs": [
    {
     "name": "stdout",
     "output_type": "stream",
     "text": [
      "('raspberry', 'kiwi', 'orange', 'strawberry', 'banana', 'cherry', 'apple')\n"
     ]
    }
   ],
   "source": [
    "#7=Write a Python program to merge two tuples and remove the duplicate elements.\n",
    "\n",
    "x =  (\"apple\", \"banana\", \"cherry\", \"strawberry\", \"raspberry\")\n",
    "y =  (\"kiwi\",\"orange\",\"apple\", \"banana\", \"cherry\")\n",
    "z=x+y \n",
    "result=tuple(set(z))\n",
    "print(result)"
   ]
  },
  {
   "cell_type": "code",
   "execution_count": 34,
   "id": "20764bcc",
   "metadata": {},
   "outputs": [
    {
     "name": "stdout",
     "output_type": "stream",
     "text": [
      "apple\n",
      "banana\n",
      "cherry\n"
     ]
    }
   ],
   "source": [
    "#8-Write a Python program to create a tuple with a variable length and unpack it into multiple variables.\n",
    "\n",
    "fruits = (\"apple\", \"banana\", \"cherry\")\n",
    "\n",
    "(green, yellow, red) = fruits\n",
    "\n",
    "print(green)\n",
    "print(yellow)\n",
    "print(red)"
   ]
  },
  {
   "cell_type": "code",
   "execution_count": 57,
   "id": "2c548051",
   "metadata": {},
   "outputs": [
    {
     "name": "stdout",
     "output_type": "stream",
     "text": [
      "Enter a element from given tuple 6\n",
      "index of given element is 5\n"
     ]
    }
   ],
   "source": [
    "#9-Write a Python program to find the index of the first occurrence of an element in a tuple.\n",
    "num = (1,2,3,4,5,6,7,33,45,56,2,6 ,2,4,5,3,53,1)\n",
    "\n",
    "n = int(input(\"Enter a element from given tuple \"))\n",
    "for i in num:\n",
    "    if i==n:\n",
    "        z=num.index(i)\n",
    "print(\"index of given element is\",z)\n"
   ]
  },
  {
   "cell_type": "markdown",
   "id": "d9958900",
   "metadata": {},
   "source": [
    "# set\n"
   ]
  },
  {
   "cell_type": "code",
   "execution_count": 8,
   "id": "3c4b19a8",
   "metadata": {},
   "outputs": [
    {
     "name": "stdout",
     "output_type": "stream",
     "text": [
      "The two sets have common element. {'orange', 'mango'}\n"
     ]
    }
   ],
   "source": [
    "#1. Write a Python program to check if two sets have any common elements.\n",
    "\n",
    "set1 = {\"apple\", \"orange\",\"mango\"}\n",
    "set2 = {\"kiwi\", \"mango\",\"orange\"}\n",
    "if set1.intersection(set2):\n",
    "    print(\"The two sets have common element.\",set1.intersection(set2))\n",
    "else:\n",
    "    print(\"The two sets do not have common elements.\")\n"
   ]
  },
  {
   "cell_type": "code",
   "execution_count": 10,
   "id": "22d60839",
   "metadata": {},
   "outputs": [
    {
     "data": {
      "text/plain": [
       "{'apple', 'orange'}"
      ]
     },
     "execution_count": 10,
     "metadata": {},
     "output_type": "execute_result"
    }
   ],
   "source": [
    "#2. Write a Python program to find the difference between two sets.\n",
    "\n",
    "set1 = {\"apple\", \"orange\",\"mango\"}\n",
    "set2 = {\"kiwi\", \"mango\",}\n",
    "set1.difference(set2)"
   ]
  },
  {
   "cell_type": "code",
   "execution_count": 11,
   "id": "c9e4623b",
   "metadata": {},
   "outputs": [
    {
     "data": {
      "text/plain": [
       "{'apple', 'kiwi', 'orange'}"
      ]
     },
     "execution_count": 11,
     "metadata": {},
     "output_type": "execute_result"
    }
   ],
   "source": [
    "#3. Write a Python program to find the symmetric difference between two sets.\n",
    "#5. Write a Python program to create a new set with all the elements from two sets, but exclude the common ones\n",
    "#remove same item\n",
    "set1 = {\"apple\", \"orange\",\"mango\"}\n",
    "set2 = {\"kiwi\", \"mango\"}\n",
    "set1.symmetric_difference(set2)"
   ]
  },
  {
   "cell_type": "code",
   "execution_count": 14,
   "id": "8b2f51bc",
   "metadata": {},
   "outputs": [
    {
     "name": "stdout",
     "output_type": "stream",
     "text": [
      "{'orange', 'apple', 'mango'}\n"
     ]
    }
   ],
   "source": [
    "#4. Write a Python program to create a set from a given list and remove the duplicates\n",
    "\n",
    "fruits = [\"apple\", \"orange\",\"mango\",\"apple\",\"mango\"]\n",
    "set1=set(fruits)\n",
    "print(set1)"
   ]
  },
  {
   "cell_type": "code",
   "execution_count": 26,
   "id": "5a4ecd1a",
   "metadata": {},
   "outputs": [
    {
     "data": {
      "text/plain": [
       "True"
      ]
     },
     "execution_count": 26,
     "metadata": {},
     "output_type": "execute_result"
    }
   ],
   "source": [
    "#5. Write a Python program to check if a set is a subset of another set.\n",
    "\n",
    "set1 = {\"apple\", \"orange\",\"mango\",\"kiwi\"}\n",
    "set2 = {\"kiwi\", \"mango\"}\n",
    "set2.issubset(set1)\n"
   ]
  },
  {
   "cell_type": "code",
   "execution_count": 28,
   "id": "2124189d",
   "metadata": {},
   "outputs": [
    {
     "name": "stdout",
     "output_type": "stream",
     "text": [
      "86\n",
      "2\n"
     ]
    }
   ],
   "source": [
    "#7. Write a Python program to find the maximum and minimum values in a set\n",
    "\n",
    "set1={2,3,5,6,7,86,5,44}\n",
    "print(max(set1))\n",
    "print(min(set1))"
   ]
  },
  {
   "cell_type": "code",
   "execution_count": 31,
   "id": "bcc6dcd2",
   "metadata": {},
   "outputs": [
    {
     "name": "stdout",
     "output_type": "stream",
     "text": [
      "set()\n"
     ]
    }
   ],
   "source": [
    "#8. Write a Python program to remove all the elements from a set.\n",
    "set1 = {\"apple\", \"orange\",\"mango\",\"kiwi\"}\n",
    "set1.clear()\n",
    "print(set1)\n"
   ]
  },
  {
   "cell_type": "code",
   "execution_count": 32,
   "id": "088e4a16",
   "metadata": {},
   "outputs": [
    {
     "ename": "NameError",
     "evalue": "name 'set1' is not defined",
     "output_type": "error",
     "traceback": [
      "\u001b[1;31m---------------------------------------------------------------------------\u001b[0m",
      "\u001b[1;31mNameError\u001b[0m                                 Traceback (most recent call last)",
      "Cell \u001b[1;32mIn[32], line 4\u001b[0m\n\u001b[0;32m      2\u001b[0m set1 \u001b[38;5;241m=\u001b[39m {\u001b[38;5;124m\"\u001b[39m\u001b[38;5;124mapple\u001b[39m\u001b[38;5;124m\"\u001b[39m, \u001b[38;5;124m\"\u001b[39m\u001b[38;5;124morange\u001b[39m\u001b[38;5;124m\"\u001b[39m,\u001b[38;5;124m\"\u001b[39m\u001b[38;5;124mmango\u001b[39m\u001b[38;5;124m\"\u001b[39m,\u001b[38;5;124m\"\u001b[39m\u001b[38;5;124mkiwi\u001b[39m\u001b[38;5;124m\"\u001b[39m}\n\u001b[0;32m      3\u001b[0m \u001b[38;5;28;01mdel\u001b[39;00m set1\n\u001b[1;32m----> 4\u001b[0m \u001b[38;5;28mprint\u001b[39m(set1)\n",
      "\u001b[1;31mNameError\u001b[0m: name 'set1' is not defined"
     ]
    }
   ],
   "source": [
    "#8. Write a Python program to remove all the elements from a set.\n",
    "set1 = {\"apple\", \"orange\",\"mango\",\"kiwi\"}\n",
    "del set1\n",
    "print(set1)"
   ]
  },
  {
   "cell_type": "code",
   "execution_count": 34,
   "id": "3fc38642",
   "metadata": {},
   "outputs": [
    {
     "data": {
      "text/plain": [
       "{'apple', 'banana', 'kiwi', 'mango', 'orange'}"
      ]
     },
     "execution_count": 34,
     "metadata": {},
     "output_type": "execute_result"
    }
   ],
   "source": [
    "#9. Write a Python program to update a set with the union of itself and another set\n",
    "set1 = {\"apple\", \"orange\",\"mango\",\"banana\"}\n",
    "set2 = {\"kiwi\", \"mango\"}\n",
    "set1.union(set2)"
   ]
  },
  {
   "cell_type": "code",
   "execution_count": 37,
   "id": "56e23492",
   "metadata": {},
   "outputs": [
    {
     "name": "stdout",
     "output_type": "stream",
     "text": [
      "35\n"
     ]
    }
   ],
   "source": [
    "#10. Write a Python program to find the sum of all the elements in a set.\n",
    "sum = 0\n",
    "set1={2,3,5,6,7,8,5,4}\n",
    "for i in set1:\n",
    "    sum=sum + i\n",
    "print(sum)\n"
   ]
  },
  {
   "cell_type": "markdown",
   "id": "89133ce1",
   "metadata": {},
   "source": [
    "# Python Dictionary"
   ]
  },
  {
   "cell_type": "code",
   "execution_count": 44,
   "id": "419b9974",
   "metadata": {},
   "outputs": [
    {
     "ename": "KeyError",
     "evalue": "1.0",
     "output_type": "error",
     "traceback": [
      "\u001b[1;31m---------------------------------------------------------------------------\u001b[0m",
      "\u001b[1;31mKeyError\u001b[0m                                  Traceback (most recent call last)",
      "Cell \u001b[1;32mIn[44], line 5\u001b[0m\n\u001b[0;32m      3\u001b[0m prices \u001b[38;5;241m=\u001b[39m {\u001b[38;5;124m\"\u001b[39m\u001b[38;5;124mbread\u001b[39m\u001b[38;5;124m\"\u001b[39m: \u001b[38;5;241m3.5\u001b[39m,\u001b[38;5;124m\"\u001b[39m\u001b[38;5;124mjam\u001b[39m\u001b[38;5;124m\"\u001b[39m : \u001b[38;5;241m1.5\u001b[39m ,\u001b[38;5;124m\"\u001b[39m\u001b[38;5;124mapple\u001b[39m\u001b[38;5;124m\"\u001b[39m: \u001b[38;5;241m1.0\u001b[39m}\n\u001b[0;32m      4\u001b[0m \u001b[38;5;28;01mfor\u001b[39;00m k \u001b[38;5;129;01min\u001b[39;00m \u001b[38;5;28msorted\u001b[39m(prices\u001b[38;5;241m.\u001b[39mvalues()):\n\u001b[1;32m----> 5\u001b[0m     \u001b[38;5;28mprint\u001b[39m(k,\u001b[38;5;124m\"\u001b[39m\u001b[38;5;124m-\u001b[39m\u001b[38;5;124m\"\u001b[39m, prices[k])\n",
      "\u001b[1;31mKeyError\u001b[0m: 1.0"
     ]
    }
   ],
   "source": [
    "#1. Write a Python script to sort (ascending and descending) a dictionary by value.\n",
    "\n",
    "prices = {\"bread\": 3.5,\"jam\" : 1.5 ,\"apple\": 1.0}\n",
    "for  in sorted(prices.values()):\n",
    "    print(k,\"-\", prices[k])"
   ]
  },
  {
   "cell_type": "markdown",
   "id": "5fa9af65",
   "metadata": {},
   "source": [
    "# for loop aaignmt"
   ]
  },
  {
   "cell_type": "code",
   "execution_count": 8,
   "id": "cd198a7f",
   "metadata": {},
   "outputs": [
    {
     "name": "stdout",
     "output_type": "stream",
     "text": [
      "Enter a number: 6\n",
      "Pairs with sum 6: [(2, 4)]\n"
     ]
    }
   ],
   "source": [
    "#1. Write a Python program to find all pairs of integers in a given array whose sum is equal to a given number.\n",
    "lis = [2, 4, 5, 7, 8, 9, 12, 14, 16, 9]\n",
    "num = int(input(\"Enter a number: \"))\n",
    "pairs = []\n",
    "\n",
    "for i in range(len(lis) - 1):\n",
    "    for j in range(i + 1, len(lis)):\n",
    "        if lis[i] + lis[j] == num:\n",
    "            pairs.append((lis[i], lis[j]))\n",
    "\n",
    "if pairs:\n",
    "    print(\"Pairs with sum {}: {}\".format(num, pairs))\n",
    "else:\n",
    "    print(\"No pair found.\")"
   ]
  },
  {
   "cell_type": "code",
   "execution_count": 17,
   "id": "5f872fbe",
   "metadata": {},
   "outputs": [
    {
     "name": "stdout",
     "output_type": "stream",
     "text": [
      "Median is 7.5\n"
     ]
    }
   ],
   "source": [
    "#2. Write a Python program to find the median of a given unsorted list of integers.\n",
    "lst = [2, 4, 5, 7, 8, 9, 12, 14]\n",
    "sorted_lst = sorted(lst)\n",
    "n = len(sorted_lst)\n",
    "if n % 2 == 0:\n",
    "    mid1 = sorted_lst[n // 2 - 1]\n",
    "    mid2 = sorted_lst[n // 2]\n",
    "    median = (mid1 + mid2) / 2\n",
    "else:\n",
    "    median = sorted_lst[n // 2]\n",
    "\n",
    "print(\"Median is\",median)   \n",
    "    "
   ]
  },
  {
   "cell_type": "code",
   "execution_count": 44,
   "id": "7e3fcf67",
   "metadata": {},
   "outputs": [
    {
     "name": "stdout",
     "output_type": "stream",
     "text": [
      "Enter position k 7\n",
      "[2, 4, 5, 6, 7, 8, 9, 10, 12, 14]\n",
      "7 th smallest element is 10\n"
     ]
    }
   ],
   "source": [
    "#3.Write a Python program to find the kth smallest element in a given unsorted array..\n",
    "k=int(input(\"Enter position k \" ))\n",
    "lst = [2,6,10, 4, 5, 7, 8, 9, 12, 14]\n",
    "sorted_lst = sorted(lst)\n",
    "print(sorted_lst)\n",
    "z=[]\n",
    "for i in range(len(lis)):\n",
    "    if k == i:\n",
    "        z=sorted_lst[i]\n",
    "print(\"{} th smallest element is {}\".format(k,z))"
   ]
  },
  {
   "cell_type": "code",
   "execution_count": 54,
   "id": "42f08c1f",
   "metadata": {},
   "outputs": [
    {
     "name": "stdout",
     "output_type": "stream",
     "text": [
      "Common elements are:  [2, 1, 4, 8]\n"
     ]
    }
   ],
   "source": [
    "#9Write a Python program to find the common elements between two given arrays of integers.\n",
    "lst1=[2,3,1,4,5,8,]\n",
    "lst2=[1,90,6,4,2,8]\n",
    "comm=[]\n",
    "for i in range(len(lst1)):\n",
    "    for j in range(len(lst2)):\n",
    "        if lst1[i] == lst2[j]:\n",
    "            comm.append(lst1[i])\n",
    "print(\"Common elements are: \",comm)\n",
    "            "
   ]
  },
  {
   "cell_type": "code",
   "execution_count": null,
   "id": "dadc476d",
   "metadata": {},
   "outputs": [],
   "source": [
    "#7. Write a Python program to find the largest product of any three elements in a given array of integers.\n",
    "lst=[2,3,1,4,5,8,1,90,6,4,21,8]\n",
    "\n"
   ]
  },
  {
   "cell_type": "code",
   "execution_count": null,
   "id": "03a4202e",
   "metadata": {},
   "outputs": [],
   "source": []
  }
 ],
 "metadata": {
  "kernelspec": {
   "display_name": "Python 3 (ipykernel)",
   "language": "python",
   "name": "python3"
  },
  "language_info": {
   "codemirror_mode": {
    "name": "ipython",
    "version": 3
   },
   "file_extension": ".py",
   "mimetype": "text/x-python",
   "name": "python",
   "nbconvert_exporter": "python",
   "pygments_lexer": "ipython3",
   "version": "3.11.5"
  }
 },
 "nbformat": 4,
 "nbformat_minor": 5
}
