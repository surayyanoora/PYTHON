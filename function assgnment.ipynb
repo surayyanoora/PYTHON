{
 "cells": [
  {
   "cell_type": "code",
   "execution_count": 1,
   "id": "0129cf3d",
   "metadata": {},
   "outputs": [
    {
     "name": "stdout",
     "output_type": "stream",
     "text": [
      "Sorted Dictionary in Ascending: {'b': 2, 'a': 4, 'd': 6, 'c': 8}\n",
      "Sorted Dictionary in Descending: {'c': 8, 'd': 6, 'a': 4, 'b': 2}\n"
     ]
    }
   ],
   "source": [
    "#1=. Write a Python script to sort (ascending and descending) a dictionary by value\n",
    "my_dict = {'a': 4, 'b': 2, 'c': 8, 'd': 6}\n",
    "sorted_dict_asc = dict(sorted(my_dict.items(), key=lambda item: item[1]))\n",
    "sorted_dict_desc = dict(sorted(my_dict.items(), key=lambda item: item[1], reverse=True))\n",
    "print(\"Sorted Dictionary in Ascending:\", sorted_dict_asc)\n",
    "print(\"Sorted Dictionary in Descending:\", sorted_dict_desc)"
   ]
  },
  {
   "cell_type": "code",
   "execution_count": 3,
   "id": "7b7e735a",
   "metadata": {},
   "outputs": [
    {
     "name": "stdout",
     "output_type": "stream",
     "text": [
      "Key exists\n"
     ]
    }
   ],
   "source": [
    "#2=Write a Python script to check whether a given key already exists in a dictionary\n",
    "my_dict = {'a': 1, 'b': 2, 'c': 3}\n",
    "key='b'\n",
    "if key in my_dict:\n",
    "    print(\"Key exists\")\n",
    "else:\n",
    "    print(\"not exist\")"
   ]
  },
  {
   "cell_type": "code",
   "execution_count": 5,
   "id": "abd2b6f5",
   "metadata": {},
   "outputs": [
    {
     "name": "stdout",
     "output_type": "stream",
     "text": [
      "20\n",
      "5\n"
     ]
    }
   ],
   "source": [
    "#3=Write a Python program to get the maximum and minimum values of a dictionary.\n",
    "my_dict={'a': 10, 'b': 5, 'c': 20, 'd': 15}\n",
    "max_value = max(my_dict.values())\n",
    "print(max_value)\n",
    "min_value=min(my_dict.values())\n",
    "print(min_value)"
   ]
  },
  {
   "cell_type": "code",
   "execution_count": 1,
   "id": "607b9fea",
   "metadata": {},
   "outputs": [
    {
     "name": "stdout",
     "output_type": "stream",
     "text": [
      "Enter the name of person 1: aju\n",
      "Enter the age of person 1: 23\n",
      "Enter the name of person 2: ami\n",
      "Enter the age of person 2: 24\n",
      "Enter the name of person 3: sara\n",
      "Enter the age of person 3: 25\n",
      "Dictionary of names and ages:\n",
      "{'aju': 23, 'ami': 24, 'sara': 25}\n"
     ]
    }
   ],
   "source": [
    "#4=Write a Python program to create a dictionary of names and their ages. Ask the user to input the name and age of \n",
    "#three people and store them in the dictionary\n",
    "\n",
    "people_dict = {}\n",
    "for i in range(3):\n",
    "    name = input(f\"Enter the name of person {i+1}: \")\n",
    "    age = int(input(f\"Enter the age of person {i+1}: \"))\n",
    "    \n",
    "    people_dict[name] = age\n",
    "\n",
    "print(\"Dictionary of names and ages:\")\n",
    "print(people_dict)\n"
   ]
  },
  {
   "cell_type": "code",
   "execution_count": 4,
   "id": "3817dd6e",
   "metadata": {},
   "outputs": [
    {
     "name": "stdout",
     "output_type": "stream",
     "text": [
      "Dictionary grouped by word length:\n",
      "{5: ['apple', 'grape'], 6: ['banana', 'orange'], 4: ['pear', 'kiwi']}\n"
     ]
    }
   ],
   "source": [
    "#5=Write a Python program to group a list of words into a dictionary,\n",
    "#where the key is the length of the word and the value is a list of words of that length.\n",
    "\n",
    "word_list = ['apple', 'banana', 'pear', 'orange', 'kiwi', 'grape']\n",
    "\n",
    "word_dict = {}\n",
    "\n",
    "for i in word_list:\n",
    "    word_length = len(i)\n",
    "    if word_length in word_dict:\n",
    "        word_dict[word_length].append(i)\n",
    "    else:\n",
    "        word_dict[word_length] = [i]\n",
    "\n",
    "\n",
    "print(\"Dictionary grouped by word length:\")\n",
    "print(word_dict)"
   ]
  },
  {
   "cell_type": "markdown",
   "id": "2e251689",
   "metadata": {},
   "source": [
    "# function assgn"
   ]
  },
  {
   "cell_type": "code",
   "execution_count": 9,
   "id": "866e40a8",
   "metadata": {},
   "outputs": [
    {
     "name": "stdout",
     "output_type": "stream",
     "text": [
      "Hip\n",
      "Hip\n",
      "Hooray\n",
      "\n",
      "Hip\n",
      "Hip\n",
      "Hooray\n",
      "\n",
      "Hip\n",
      "Hip\n",
      "Hooray\n",
      "\n"
     ]
    }
   ],
   "source": [
    "#Define the missing functions in the code below so that it produces the given output:\n",
    "def say_hip():\n",
    "    print(\"Hip\")\n",
    "\n",
    "def say_horray():\n",
    "    print(\"Hooray\")\n",
    "\n",
    "for i in range(3):\n",
    "    say_hip()\n",
    "    say_hip()\n",
    "    say_horray()\n",
    "    print()\n"
   ]
  },
  {
   "cell_type": "code",
   "execution_count": 31,
   "id": "3a68830d",
   "metadata": {
    "scrolled": true
   },
   "outputs": [
    {
     "name": "stdout",
     "output_type": "stream",
     "text": [
      "Enter project score: 30\n",
      "Enter exam score: 40\n",
      "\n",
      "Total: 70\n",
      "Project : ======\n",
      "Exam : ========\n",
      "Total : ==============\n",
      "Grade :A \n"
     ]
    }
   ],
   "source": [
    "#Write a program to read project score and exam score from the keyboard and print a\n",
    "#bar chart of the scores and a grade. Follow the example below:\n",
    "def grade(total):\n",
    "    if(project_score>=25 and exam_score>=25 and total>=60):\n",
    "        print(\"Grade :A \")\n",
    "    elif(project_score>=25 or exam_score>=25 and total>=50):\n",
    "             print(\"Grade :B \")\n",
    "    elif(total>=40):\n",
    "        print(\"Grade :C\")\n",
    "    else:\n",
    "        print(\"failed\")   \n",
    "\n",
    "\n",
    "project_score = int(input(\"Enter project score: \"))\n",
    "exam_score = int(input(\"Enter exam score: \"))\n",
    "\n",
    "total = project_score + exam_score\n",
    "\n",
    "print(\"\\nTotal:\", total)\n",
    "print('Project :', '=' * (project_score//5))\n",
    "print('Exam :', '=' * (exam_score//5))\n",
    "print('Total :', '=' * (total//5))\n",
    "grade(total)\n",
    "\n",
    "\n"
   ]
  },
  {
   "cell_type": "code",
   "execution_count": 3,
   "id": "4e3adfbc",
   "metadata": {},
   "outputs": [
    {
     "name": "stdout",
     "output_type": "stream",
     "text": [
      "Enter project score: 40\n",
      "Enter exam score: 30\n",
      "Total: 70\n",
      "Project : ========\n",
      "Exam : ======\n",
      "Total : ==============\n",
      "Grade : A \n"
     ]
    }
   ],
   "source": [
    "#### Modify the Above program in such a way that add a print_score function to the code and replace the following three lines,\n",
    "def print_score(label,score):\n",
    "    bar_length = score // 5\n",
    "    print(label + '=' * bar_length)\n",
    "def grade(total):\n",
    "    if(project_score>=25 and exam_score>=25 and total>=60):\n",
    "        print(\"Grade : A \")\n",
    "    elif(project_score>=25 or exam_score>=25 and total>=50):\n",
    "             print(\"Grade : B \")\n",
    "    elif(total>=40):\n",
    "        print(\"Grade : C\")\n",
    "    else:\n",
    "        print(\"failed\")   \n",
    "\n",
    "project_score = int(input(\"Enter project score: \"))\n",
    "exam_score = int(input(\"Enter exam score: \"))\n",
    "\n",
    "total = project_score + exam_score\n",
    "\n",
    "print(\"Total:\", total)\n",
    "\n",
    "print_score('Project : ', project_score)\n",
    "\n",
    "print_score(\"Exam : \" , exam_score)\n",
    "\n",
    "print_score(\"Total : \",total_score)\n",
    "grade(total)\n"
   ]
  },
  {
   "cell_type": "code",
   "execution_count": 4,
   "id": "52d4d0d0",
   "metadata": {},
   "outputs": [
    {
     "name": "stdout",
     "output_type": "stream",
     "text": [
      "Enter project score: 30\n",
      "Enter exam score: 50\n",
      "\n",
      "Total: 70\n",
      "Project : ======\n",
      "Exam : ==========\n",
      "Total : ================\n",
      "Grade: A\n"
     ]
    }
   ],
   "source": [
    "def print_score(label,score):\n",
    "    bar_length = score // 5\n",
    "    print(label + '=' * bar_length)\n",
    "def calculate_grade(project_score,exam_score):\n",
    "    total = project_score + exam_score\n",
    "    \n",
    "    if total >= 60 and project_score >= 25 and exam_score >= 25:\n",
    "        return 'A'\n",
    "    elif (total >= 50) and (project_score >= 25 or exam_score >= 25):\n",
    "        return 'B'\n",
    "    elif total >= 40:\n",
    "        return 'C'\n",
    "    else:\n",
    "        return 'D'\n",
    "\n",
    "project_score = int(input(\"Enter project score: \"))\n",
    "exam_score = int(input(\"Enter exam score: \"))\n",
    "\n",
    "total_score = project_score + exam_score\n",
    "\n",
    "print(\"\\nTotal:\", total)\n",
    "print_score('Project : ', project_score)\n",
    "print_score(\"Exam : \" , exam_score)\n",
    "print_score(\"Total : \",total_score)\n",
    "grade = calculate_grade(project_score, exam_score)\n",
    "print(\"Grade:\", grade)"
   ]
  },
  {
   "cell_type": "code",
   "execution_count": null,
   "id": "97a78eef",
   "metadata": {},
   "outputs": [],
   "source": [
    "def main():\n",
    "    project_score = int(input(\"Enter project score: \"))\n",
    "    print('Project :', '=' * (project_score//5))\n",
    "\n",
    "main()"
   ]
  }
 ],
 "metadata": {
  "kernelspec": {
   "display_name": "Python 3 (ipykernel)",
   "language": "python",
   "name": "python3"
  },
  "language_info": {
   "codemirror_mode": {
    "name": "ipython",
    "version": 3
   },
   "file_extension": ".py",
   "mimetype": "text/x-python",
   "name": "python",
   "nbconvert_exporter": "python",
   "pygments_lexer": "ipython3",
   "version": "3.11.5"
  }
 },
 "nbformat": 4,
 "nbformat_minor": 5
}
