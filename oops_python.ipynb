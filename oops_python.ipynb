{
 "cells": [
  {
   "cell_type": "code",
   "execution_count": 3,
   "id": "bfd608c6",
   "metadata": {},
   "outputs": [
    {
     "name": "stdout",
     "output_type": "stream",
     "text": [
      "The red car is  medium in size and a speed of  60 mph\n",
      "The blue car is  small in size and a speed of  40 mph\n",
      "The green car is  large in size and a speed of  80 mph\n",
      "The red car is driving at 60 mph\n",
      "The blue car has stopped\n",
      "The green car is honking\n"
     ]
    }
   ],
   "source": [
    "class car:\n",
    "    def __init__(self,color,size,speed):\n",
    "        self.color = color\n",
    "        self.size = size\n",
    "        self.speed = speed\n",
    "\n",
    "    def drive(self):\n",
    "        print(f\"The {self.color} car is driving at {self.speed} mph\")\n",
    "    \n",
    "    def stop(self):\n",
    "        print(f\"The {self.color} car has stopped\")\n",
    "    \n",
    "    def honk(self):\n",
    "        print(f\"The {self.color} car is honking\")\n",
    "    \n",
    "red_car = car(\"red\",\"medium\", 60)\n",
    "blue_car = car(\"blue\",\"small\", 40)\n",
    "green_car = car(\"green\",\"large\", 80)\n",
    "\n",
    "\n",
    "print(f\"The {red_car.color} car is  {red_car.size} in size and a speed of  {red_car.speed} mph\")\n",
    "print(f\"The {blue_car.color} car is  {blue_car.size} in size and a speed of  {blue_car.speed} mph\")\n",
    "print(f\"The {green_car.color} car is  {green_car.size} in size and a speed of  {green_car.speed} mph\")\n",
    "\n",
    "red_car.drive()\n",
    "blue_car.stop()\n",
    "green_car.honk()\n"
   ]
  },
  {
   "cell_type": "code",
   "execution_count": 4,
   "id": "3ff56aa6",
   "metadata": {},
   "outputs": [
    {
     "name": "stdout",
     "output_type": "stream",
     "text": [
      "10\n"
     ]
    }
   ],
   "source": [
    "class my_class:\n",
    "    x=10\n",
    "obj = my_class()\n",
    "print(obj.x)"
   ]
  },
  {
   "cell_type": "code",
   "execution_count": 5,
   "id": "0a95ec3b",
   "metadata": {},
   "outputs": [
    {
     "name": "stdout",
     "output_type": "stream",
     "text": [
      "10\n"
     ]
    }
   ],
   "source": [
    "class my_class:\n",
    "    x=10\n",
    "\n",
    "print(my_class.x)"
   ]
  },
  {
   "cell_type": "markdown",
   "id": "508337d4",
   "metadata": {},
   "source": [
    "# instance attribute"
   ]
  },
  {
   "cell_type": "code",
   "execution_count": 7,
   "id": "e0422a2b",
   "metadata": {},
   "outputs": [
    {
     "name": "stdout",
     "output_type": "stream",
     "text": [
      "20\n"
     ]
    }
   ],
   "source": [
    "class my_class:\n",
    "    def __init__(self):\n",
    "        self.y=20\n",
    "obj = my_class()\n",
    "print(obj.y)"
   ]
  },
  {
   "cell_type": "markdown",
   "id": "d8c58db7",
   "metadata": {},
   "source": [
    "# class methods"
   ]
  },
  {
   "cell_type": "code",
   "execution_count": 10,
   "id": "39193b81",
   "metadata": {},
   "outputs": [
    {
     "name": "stdout",
     "output_type": "stream",
     "text": [
      "Hello 10 20\n",
      "10 + 20 = 30\n"
     ]
    }
   ],
   "source": [
    "class my_class:\n",
    "    x=10\n",
    "    y=20\n",
    "    \n",
    "    def print_x(self):\n",
    "        print(\"Hello\",self.x,self.y)\n",
    "        \n",
    "    def add(self):\n",
    "        z=self.x+self.y\n",
    "        print(self.x , \"+\" , self.y , \"=\" , z)\n",
    "\n",
    "obj = my_class()       \n",
    "obj.print_x()\n",
    "obj.add()"
   ]
  },
  {
   "cell_type": "code",
   "execution_count": 13,
   "id": "74635d98",
   "metadata": {},
   "outputs": [
    {
     "name": "stdout",
     "output_type": "stream",
     "text": [
      "Area of room =  1309.0\n"
     ]
    }
   ],
   "source": [
    "#calculate area of room\n",
    "\n",
    "class room:\n",
    "    length = 0.0\n",
    "    breadth = 0.0\n",
    "    \n",
    "    def cal_area(self):\n",
    "        print(\"Area of room = \", self.length * self.breadth)\n",
    "    \n",
    "study_room = room()\n",
    "study_room.length = 42.5\n",
    "study_room.breadth = 30.8\n",
    "\n",
    "study_room.cal_area()"
   ]
  },
  {
   "cell_type": "code",
   "execution_count": 22,
   "id": "a8012a31",
   "metadata": {},
   "outputs": [
    {
     "name": "stdout",
     "output_type": "stream",
     "text": [
      "the total account balance is 50000\n",
      "The total amount after deposite  is  60000\n",
      "after withdraw the amount is  30000\n"
     ]
    }
   ],
   "source": [
    "#create a clas called bank account with attributes balance and bank account number.methods to print deposite and withdrw\n",
    "#print current balanc\n",
    "\n",
    "class bank_account:\n",
    "    acc_balance = 0.0\n",
    "    acc_num = 0.0\n",
    "    deposite_amt = 0.0\n",
    "    withdraw_amt = 0.0\n",
    "    \n",
    "    def account(self):\n",
    "        print(\"the total account balance is\",self.acc_balance)\n",
    "   \n",
    "    def deposite(self):\n",
    "        print(\"The total amount after deposite  is \",self.deposite_amt + self. acc_balance)\n",
    "   \n",
    "    def withdraw(self):\n",
    "        print(\"after withdraw the amount is \",  self.acc_balance - self. withdraw_amt)\n",
    "        \n",
    "obj = bank_account()\n",
    "obj.deposite_amt = 10000\n",
    "obj.withdraw_amt = 20000\n",
    "obj.acc_balance = 50000\n",
    "obj.acc_num = 53464557\n",
    "\n",
    "obj.account()\n",
    "obj.deposite()\n",
    "obj.withdraw()"
   ]
  },
  {
   "cell_type": "code",
   "execution_count": 23,
   "id": "64220633",
   "metadata": {},
   "outputs": [
    {
     "name": "stdout",
     "output_type": "stream",
     "text": [
      "Mountain bike\n"
     ]
    }
   ],
   "source": [
    "class bike:\n",
    "    def __init__(self,name = \"\"):\n",
    "        self.name = name\n",
    "        print(self.name)\n",
    "bike1=bike(\"Mountain bike\")"
   ]
  },
  {
   "cell_type": "markdown",
   "id": "f2755b58",
   "metadata": {},
   "source": [
    "# str function"
   ]
  },
  {
   "cell_type": "code",
   "execution_count": 25,
   "id": "74b86730",
   "metadata": {},
   "outputs": [
    {
     "name": "stdout",
     "output_type": "stream",
     "text": [
      "john\n",
      "36\n"
     ]
    }
   ],
   "source": [
    "class person:\n",
    "    def __init__(self,name,age):\n",
    "        self.name = name\n",
    "        self.age = age\n",
    "        \n",
    "p1= person(\"john\",36)\n",
    "print(p1.name)\n",
    "print(p1.age)"
   ]
  },
  {
   "cell_type": "code",
   "execution_count": 26,
   "id": "44437dea",
   "metadata": {},
   "outputs": [
    {
     "name": "stdout",
     "output_type": "stream",
     "text": [
      "john - 36\n"
     ]
    }
   ],
   "source": [
    "class person:\n",
    "    def __init__(self,name,age):\n",
    "        self.name = name\n",
    "        self.age = age\n",
    "        \n",
    "    def __str__(self):\n",
    "        return f\"{self.name} - {self.age}\"\n",
    "\n",
    "p1= person(\"john\",36)\n",
    "print(p1)"
   ]
  },
  {
   "cell_type": "markdown",
   "id": "9fbcc766",
   "metadata": {},
   "source": [
    "# inheritance"
   ]
  },
  {
   "cell_type": "code",
   "execution_count": 3,
   "id": "1829a9f8",
   "metadata": {},
   "outputs": [
    {
     "name": "stdout",
     "output_type": "stream",
     "text": [
      "I can eat\n",
      "My name is  Rohu\n"
     ]
    }
   ],
   "source": [
    "class animal:\n",
    "    name = \"\"\n",
    "    def eat(self):\n",
    "        print(\"I can eat\")\n",
    "        \n",
    "class dog(animal):\n",
    "    def display(self):\n",
    "        print(\"My name is \",self.name)\n",
    "\n",
    "labardor = dog()\n",
    "\n",
    "labardor.name = \"Rohu\"\n",
    "\n",
    "labardor.eat()\n",
    "labardor.display()"
   ]
  },
  {
   "cell_type": "code",
   "execution_count": 7,
   "id": "57bd2c9d",
   "metadata": {},
   "outputs": [
    {
     "name": "stdout",
     "output_type": "stream",
     "text": [
      "Enter side1 : 2\n",
      "Enter side2 : 3\n",
      "Enter side3 : 4\n",
      "side 1 is 2.0\n",
      "side 2 is 3.0\n",
      "side 3 is 4.0\n",
      "Area of triangle is 20.49\n"
     ]
    }
   ],
   "source": [
    "#Area of triangle\n",
    "\n",
    "class polygon:\n",
    "    def __init__(self,no_of_sides):\n",
    "        self.n = no_of_sides\n",
    "        self.sides = [0 for i in range(no_of_sides)]\n",
    "   \n",
    "    def inputsides(self):\n",
    "        self.sides = [float(input(\"Enter side\"+str(i+1)+\" : \") )for i in range(self.n)]\n",
    "        \n",
    "    def dispsides(self):\n",
    "        for i in range(self.n):\n",
    "            print(\"side\",i+1,\"is\",self.sides[i])\n",
    "    \n",
    "class triangle(polygon):\n",
    "     def __init__(self):\n",
    "            polygon.__init__(self,3)\n",
    "    \n",
    "     def findArea(self):\n",
    "            a,b,c = self.sides\n",
    "            s=a+b+c/2\n",
    "            area =(s*(s-a)*(s-b)*(s-c)) **0.5\n",
    "            print(\"Area of triangle is %0.2f\" %area)\n",
    "\n",
    "t = triangle()\n",
    "t.inputsides()\n",
    "t.dispsides()\n",
    "t.findArea()\n",
    "            "
   ]
  },
  {
   "cell_type": "code",
   "execution_count": 4,
   "id": "51f72b36",
   "metadata": {},
   "outputs": [
    {
     "name": "stdout",
     "output_type": "stream",
     "text": [
      "Enter side1 : 3\n",
      "Enter side2 : 4\n",
      "side 1 is 3.0\n",
      "side 2 is 4.0\n",
      "Area of rectangle is  12.0\n"
     ]
    }
   ],
   "source": [
    "#Area of rectangle\n",
    "\n",
    "class polygon:\n",
    "    def __init__(self,no_of_sides):\n",
    "        self.n = no_of_sides\n",
    "        self.sides = [0 for i in range(no_of_sides)]\n",
    "   \n",
    "    def inputsides(self):\n",
    "        self.sides = [float(input(\"Enter side\"+str(i+1)+\" : \") )for i in range(self.n)]\n",
    "        \n",
    "    def dispsides(self):\n",
    "        for i in range(self.n):\n",
    "            print(\"side\",i+1,\"is\",self.sides[i])\n",
    "            \n",
    "class rectangle(polygon):\n",
    "     def __init__(self):\n",
    "            polygon.__init__(self,2)\n",
    "    \n",
    "     def findArea(self):\n",
    "            l,b = self.sides\n",
    "            area = l*b\n",
    "            print(\"Area of rectangle is \",area)\n",
    "\n",
    "t = rectangle()\n",
    "t.inputsides()\n",
    "t.dispsides()\n",
    "t.findArea()\n",
    "            \n",
    "    "
   ]
  },
  {
   "cell_type": "markdown",
   "id": "c0a6d5a8",
   "metadata": {},
   "source": [
    "# polymorphism"
   ]
  },
  {
   "cell_type": "code",
   "execution_count": 5,
   "id": "65a73fb3",
   "metadata": {},
   "outputs": [
    {
     "name": "stdout",
     "output_type": "stream",
     "text": [
      "I can eat\n",
      "I can eat bones\n"
     ]
    }
   ],
   "source": [
    "class animal:\n",
    "    name = \"\"\n",
    "    def eat(self):\n",
    "        print(\"I can eat\")\n",
    "        \n",
    "class dog(animal):\n",
    "    def eat(self):\n",
    "        super().eat()\n",
    "        print(\"I like to eat bones\")\n",
    "\n",
    "labardor = dog()\n",
    "labardor.eat()\n"
   ]
  },
  {
   "cell_type": "markdown",
   "id": "1e28e708",
   "metadata": {},
   "source": [
    "# multiple inheritance"
   ]
  },
  {
   "cell_type": "code",
   "execution_count": 7,
   "id": "35aae6c1",
   "metadata": {},
   "outputs": [
    {
     "name": "stdout",
     "output_type": "stream",
     "text": [
      "Mammal can give direct birth\n",
      "Winged animals can flap\n"
     ]
    }
   ],
   "source": [
    "class mammal:\n",
    "    def mammal_info(self):\n",
    "        print(\"Mammal can give direct birth\")\n",
    "\n",
    "class wingedAnimal:\n",
    "    def wingedAnimal_info(self):\n",
    "        print(\"Winged animals can flap\")\n",
    "        \n",
    "class bat(mammal,wingedAnimal):\n",
    "    pass# abstract method\n",
    "\n",
    "b1 = bat()\n",
    "b1.mammal_info()\n",
    "b1.wingedAnimal_info()"
   ]
  },
  {
   "cell_type": "markdown",
   "id": "2bc724ff",
   "metadata": {},
   "source": [
    "# abstract method"
   ]
  },
  {
   "cell_type": "code",
   "execution_count": 14,
   "id": "56711e37",
   "metadata": {},
   "outputs": [
    {
     "name": "stdout",
     "output_type": "stream",
     "text": [
      "Area :50.24\n",
      "Area :6\n"
     ]
    }
   ],
   "source": [
    "from abc import ABC,abstractmethod\n",
    "class shape(ABC):\n",
    "    @abstractmethod\n",
    "    def area(self):\n",
    "        pass\n",
    "\n",
    "class circle(shape):\n",
    "    def __init__(self,radius):\n",
    "        self.radius = radius\n",
    "        \n",
    "    def area(self):\n",
    "        return 3.14*self.radius *self.radius\n",
    "    \n",
    "class rectangle(shape):\n",
    "    def __init__(self,l,b):\n",
    "        self.l = l\n",
    "        self.b = b\n",
    "        \n",
    "    def area(self):\n",
    "        return self.l *self.b\n",
    "\n",
    "circle1 = circle(4)\n",
    "rectangle1 = rectangle(2,3)\n",
    "\n",
    "shapes = [circle1,rectangle1]\n",
    "for shape in shapes:\n",
    "    print(f\"Area :{shape.area()}\")\n",
    "    "
   ]
  },
  {
   "cell_type": "code",
   "execution_count": null,
   "id": "032afb9f",
   "metadata": {},
   "outputs": [],
   "source": []
  }
 ],
 "metadata": {
  "kernelspec": {
   "display_name": "Python 3 (ipykernel)",
   "language": "python",
   "name": "python3"
  },
  "language_info": {
   "codemirror_mode": {
    "name": "ipython",
    "version": 3
   },
   "file_extension": ".py",
   "mimetype": "text/x-python",
   "name": "python",
   "nbconvert_exporter": "python",
   "pygments_lexer": "ipython3",
   "version": "3.11.5"
  }
 },
 "nbformat": 4,
 "nbformat_minor": 5
}
