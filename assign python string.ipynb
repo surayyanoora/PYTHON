{
 "cells": [
  {
   "cell_type": "code",
   "execution_count": 1,
   "id": "b90840bc",
   "metadata": {},
   "outputs": [
    {
     "name": "stdout",
     "output_type": "stream",
     "text": [
      "Hello, How are you?\n"
     ]
    }
   ],
   "source": [
    "#1-Write a program that prints \"Hello, How are You ? \" on the console.\n",
    "input1=\"Hello, How are you?\"\n",
    "print(input1)\n"
   ]
  },
  {
   "cell_type": "code",
   "execution_count": 2,
   "id": "25b28e56",
   "metadata": {},
   "outputs": [
    {
     "name": "stdout",
     "output_type": "stream",
     "text": [
      "Enter user name:noora\n",
      "Hi noora good morning.\n"
     ]
    }
   ],
   "source": [
    "#2-Write a program that take the user ‘s name and then prints a greeting message with their name\n",
    "name=input(\"Enter user name:\")\n",
    "z=f\"Hi {name} good morning.\"\n",
    "print(z)"
   ]
  },
  {
   "cell_type": "code",
   "execution_count": 2,
   "id": "d54d0c7d",
   "metadata": {},
   "outputs": [
    {
     "name": "stdout",
     "output_type": "stream",
     "text": [
      "Enter a sentence:  Hi how are you?\n",
      "no of words in string are: 4\n",
      "no of charecters in string are:  15\n"
     ]
    }
   ],
   "source": [
    "#3-Write a program that takes a sentence and then prints the number of words in that sentence.\n",
    "input1=input(\"Enter a sentence:  \")\n",
    "count=len(input1.split())\n",
    "print(\"no of words in string are:\",count)\n",
    "print(\"no of charecters in string are: \",len(input1))"
   ]
  },
  {
   "cell_type": "code",
   "execution_count": 14,
   "id": "8542abe2",
   "metadata": {},
   "outputs": [
    {
     "name": "stdout",
     "output_type": "stream",
     "text": [
      "Enter a sentence:  sdhgfjhsZHDGZFKRG\n",
      "Upper case letter count: 9\n"
     ]
    }
   ],
   "source": [
    "#4-Write a program that takes a string as input and counts the number of uppercase letters in the string.\n",
    "\n",
    "input1=input(\"Enter a sentence:  \")\n",
    "upper=0\n",
    "for i in input1:\n",
    "    if i.isupper():\n",
    "        upper += 1\n",
    "print(\"Upper case letter count:\",upper)\n",
    "    \n",
    "    \n"
   ]
  },
  {
   "cell_type": "code",
   "execution_count": 27,
   "id": "9b6a8ea4",
   "metadata": {},
   "outputs": [
    {
     "name": "stdout",
     "output_type": "stream",
     "text": [
      "Enter a sentence:  hay want to eat\n",
      "hey went to eet\n"
     ]
    }
   ],
   "source": [
    "#5-Write a program that takes a string as input and replaces all occurrences of the letter 'a' with the letter 'e'\n",
    "\n",
    "input1=input(\"Enter a sentence:  \")\n",
    "\n",
    "for i in input1:\n",
    "    x = input1.replace(\"a\", \"e\")\n",
    "print(x)"
   ]
  },
  {
   "cell_type": "code",
   "execution_count": 23,
   "id": "1e7992b3",
   "metadata": {},
   "outputs": [
    {
     "name": "stdout",
     "output_type": "stream",
     "text": [
      "Enter a sentence:  malayalam\n",
      "Reversed string: malayalam\n",
      "palindrome\n"
     ]
    }
   ],
   "source": [
    "#6-Create a program that checks if a given string is a palindrom\n",
    "\n",
    "input1=input(\"Enter a sentence:  \")\n",
    "str=\"\"\n",
    "for i in input1:\n",
    "    str=i+str\n",
    "print(\"Reversed string:\",str)\n",
    "if(str==input1):\n",
    "    print(\"palindrome\")\n",
    "else:\n",
    "    print(\"not palindrome\")\n"
   ]
  },
  {
   "cell_type": "code",
   "execution_count": 8,
   "id": "333462b6",
   "metadata": {},
   "outputs": [
    {
     "name": "stdout",
     "output_type": "stream",
     "text": [
      "Enter a sentence:  what is your name\n",
      "name your is what\n"
     ]
    }
   ],
   "source": [
    "#7=Write a program that reverses the order of words in a given sentence.\n",
    "\n",
    "input1=input(\"Enter a sentence:  \")\n",
    "\n",
    "x=input1.split()\n",
    "z=x[::-1]\n",
    "l = []\n",
    "for i in z:\n",
    "    l.append(i)\n",
    "# printing reverse words\n",
    "print(\" \".join(l)) # list to string\n",
    "        \n",
    "        \n",
    "    "
   ]
  },
  {
   "cell_type": "code",
   "execution_count": 5,
   "id": "6ae2df3a",
   "metadata": {},
   "outputs": [
    {
     "name": "stdout",
     "output_type": "stream",
     "text": [
      "Enter a string:  what is your name\n",
      "Enter a sub string:  what\n",
      "yes\n"
     ]
    }
   ],
   "source": [
    "#8-Create a program that checks if a substring is present in a given string.\n",
    "\n",
    "input1=input(\"Enter a string:  \")\n",
    "input2=input(\"Enter a sub string:  \")\n",
    "\n",
    "if input2 in input1:\n",
    "    print(\"yes\")\n",
    "else:\n",
    "    print(\"no\")"
   ]
  },
  {
   "cell_type": "code",
   "execution_count": 9,
   "id": "dfeac669",
   "metadata": {},
   "outputs": [
    {
     "name": "stdout",
     "output_type": "stream",
     "text": [
      "Enter a string:  fd fggsesge agdh\n",
      "fggsesge is the longest word\n"
     ]
    }
   ],
   "source": [
    "#9-Write a program that finds the longest word in a given sentence.\n",
    "\n",
    "\n",
    "input1=input(\"Enter a string:  \")\n",
    "x=input1.split()\n",
    "print(max(x,key=len),\"is the longest word\")  \n",
    "    \n",
    "\n"
   ]
  },
  {
   "cell_type": "code",
   "execution_count": null,
   "id": "9d288300",
   "metadata": {},
   "outputs": [],
   "source": []
  },
  {
   "cell_type": "markdown",
   "id": "7479a315",
   "metadata": {},
   "source": [
    "# forloop"
   ]
  },
  {
   "cell_type": "code",
   "execution_count": 20,
   "id": "94eb8fc2",
   "metadata": {},
   "outputs": [
    {
     "name": "stdout",
     "output_type": "stream",
     "text": [
      "List is  [1, 2, 3, 4, 5, 6]\n",
      "target_sum is  7\n",
      "pairs is [(1, 6), (2, 5), (3, 4), (4, 3), (5, 2)]\n"
     ]
    }
   ],
   "source": [
    "#1. Write a Python program to find all pairs of integers in a given array whose sum is equal to a given number.\n",
    "\n",
    "pairs=[]\n",
    "arr = [1, 2, 3, 4, 5, 6]\n",
    "target_sum = 7\n",
    "num_list= list(arr)\n",
    "print(\"List is \",num_list)\n",
    "print(\"target_sum is \", target_sum)\n",
    "for num in range(len(arr)):\n",
    "    complement = target_sum - num\n",
    "    if complement in num_list and num != complement:\n",
    "            pairs.append((num, complement))\n",
    "    \n",
    "print(\"pairs is\",pairs)\n",
    "   "
   ]
  },
  {
   "cell_type": "code",
   "execution_count": 33,
   "id": "8f6307f2",
   "metadata": {},
   "outputs": [
    {
     "name": "stdout",
     "output_type": "stream",
     "text": [
      "[0, 3, 6, 8, 9, 11, 12, 14]\n",
      "Enter  k th  position 4\n",
      "4 th smallest element in list is  9\n"
     ]
    }
   ],
   "source": [
    "#2-Write a Python program to find the kth smallest element in a given unsorted array.\n",
    "\n",
    "lis=[3,6,8,9,11,12,0,14]\n",
    "lis.sort()\n",
    "print(lis)\n",
    "n = int(input(\"Enter  k th  position \"))\n",
    "for i in range(len(lis)):\n",
    "    if i==n:\n",
    "        print(f\"{n} th smallest element in list is \",lis[i])"
   ]
  },
  {
   "cell_type": "code",
   "execution_count": null,
   "id": "f975bd09",
   "metadata": {},
   "outputs": [],
   "source": [
    "#3=Write a Python program to find the longest increasing subsequence in a given array of integers.\n",
    "\n"
   ]
  }
 ],
 "metadata": {
  "kernelspec": {
   "display_name": "Python 3 (ipykernel)",
   "language": "python",
   "name": "python3"
  },
  "language_info": {
   "codemirror_mode": {
    "name": "ipython",
    "version": 3
   },
   "file_extension": ".py",
   "mimetype": "text/x-python",
   "name": "python",
   "nbconvert_exporter": "python",
   "pygments_lexer": "ipython3",
   "version": "3.11.5"
  }
 },
 "nbformat": 4,
 "nbformat_minor": 5
}
