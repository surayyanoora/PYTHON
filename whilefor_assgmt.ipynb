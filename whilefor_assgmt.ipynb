{
 "cells": [
  {
   "cell_type": "code",
   "execution_count": 3,
   "id": "90535b4d",
   "metadata": {},
   "outputs": [
    {
     "name": "stdout",
     "output_type": "stream",
     "text": [
      "7 x 1 = 7\n",
      "7 x 2 = 14\n",
      "7 x 3 = 21\n",
      "7 x 4 = 28\n",
      "7 x 5 = 35\n",
      "7 x 6 = 42\n",
      "7 x 7 = 49\n"
     ]
    }
   ],
   "source": [
    "#1. Write a program to display the first 7 multiples of 7.\n",
    "i=1\n",
    "n=7\n",
    "while i<11:\n",
    "    product = n*i\n",
    "    print(\"%d x %d = %d\" %(n,i,product))\n",
    "    i=i+1\n",
    "    if i>7:\n",
    "        break"
   ]
  },
  {
   "cell_type": "code",
   "execution_count": 2,
   "id": "51d6653b",
   "metadata": {},
   "outputs": [
    {
     "name": "stdout",
     "output_type": "stream",
     "text": [
      "34\n"
     ]
    }
   ],
   "source": [
    "#2. Find the sum of numbers in a list using while loop.\n",
    "sum=0\n",
    "i=0\n",
    "lis = [2,3,4,7,2,7,9]\n",
    "while i<len(lis):\n",
    "    sum=sum+lis[i]\n",
    "    i=i+1\n",
    "print(sum)"
   ]
  },
  {
   "cell_type": "code",
   "execution_count": 5,
   "id": "2c718857",
   "metadata": {},
   "outputs": [
    {
     "name": "stdout",
     "output_type": "stream",
     "text": [
      "Positive numbers: [2, 3, 4, 7, 2, 7, 9, 2]\n",
      "Negative numbers: [-1, -3, -5, -4]\n"
     ]
    }
   ],
   "source": [
    "#3. Write a program to separate positive and negative number from a list\n",
    "positive=[]\n",
    "negative=[]\n",
    "i=0\n",
    "lis = [2,3,-1,4,7,-3,2,7,9,-5,2,-4]\n",
    "while i<len(lis):\n",
    "    if lis[i] >= 0:\n",
    "        positive.append(lis[i])\n",
    "    else:\n",
    "        negative.append(lis[i])\n",
    "    \n",
    "    i += 1\n",
    "print(\"Positive numbers:\", positive)\n",
    "print(\"Negative numbers:\", negative)"
   ]
  },
  {
   "cell_type": "code",
   "execution_count": 9,
   "id": "690a8f91",
   "metadata": {},
   "outputs": [
    {
     "name": "stdout",
     "output_type": "stream",
     "text": [
      "[4, 9, 16, 25, 36, 49]\n"
     ]
    }
   ],
   "source": [
    "#4.  Write a program that appends the square of each number to a new list.\n",
    "lis=[2,3,4,5,6,7]\n",
    "i=0\n",
    "sq=0\n",
    "sq1=[]\n",
    "while i<len(lis):\n",
    "    sq=lis[i]*lis[i]\n",
    "    sq1.append(sq)\n",
    "    i=i+1\n",
    "print(sq1)"
   ]
  },
  {
   "cell_type": "code",
   "execution_count": 11,
   "id": "8257e3ec",
   "metadata": {},
   "outputs": [
    {
     "name": "stdout",
     "output_type": "stream",
     "text": [
      "Enter a word : noora\n",
      "aroon\n"
     ]
    }
   ],
   "source": [
    "#5. Write a program in Python to reverse a word \n",
    "\n",
    "word=input(\"Enter a word : \")\n",
    "length = len(word)\n",
    "reverse = \"\"\n",
    "while length>0:\n",
    "    reverse += word[length-1]\n",
    "    length = length-1\n",
    "print(reverse)      "
   ]
  },
  {
   "cell_type": "code",
   "execution_count": 40,
   "id": "3cac671d",
   "metadata": {},
   "outputs": [
    {
     "name": "stdout",
     "output_type": "stream",
     "text": [
      "Even numbers  is : [2, 6, 44, 88]\n",
      "odd numbers  is : [55, 45, 47, 123]\n"
     ]
    }
   ],
   "source": [
    "#6-Write a program to filter even and odd number from a list.\n",
    "\n",
    "lis=[2,55,45,47,123,6,44,88]\n",
    "i=0\n",
    "n=len(lis)\n",
    "even=[]\n",
    "odd=[]\n",
    "while i<n:\n",
    "    x=lis[i]%2\n",
    "    if(x==1):\n",
    "        odd.append(lis[i])\n",
    "        \n",
    "    else:\n",
    "        even.append(lis[i])\n",
    "    i=i+1\n",
    "print(\"Even numbers  is :\",even)\n",
    "print(\"odd numbers  is :\",odd)"
   ]
  },
  {
   "cell_type": "code",
   "execution_count": 49,
   "id": "2e57f631",
   "metadata": {},
   "outputs": [
    {
     "name": "stdout",
     "output_type": "stream",
     "text": [
      "Enter a word : malayalam\n",
      "Reversed word is :  malayalam\n",
      "word is palindrome\n"
     ]
    }
   ],
   "source": [
    "#8. Write a Python program to check if a given word is a palindrome using a while loop\n",
    "\n",
    "word=input(\"Enter a word : \")\n",
    "length = len(word)\n",
    "reverse = \"\"\n",
    "while length>0:\n",
    "    reverse += word[length-1]\n",
    "    length = length-1\n",
    "print(\"Reversed word is : \",reverse)\n",
    "if(word==reverse):\n",
    "    print(\"word is palindrome\")\n",
    "else: \n",
    "    print(\"not palindrome\")"
   ]
  },
  {
   "cell_type": "code",
   "execution_count": 52,
   "id": "b02753f6",
   "metadata": {},
   "outputs": [
    {
     "name": "stdout",
     "output_type": "stream",
     "text": [
      "Enter a number 3\n",
      "3 x 1 = 3\n",
      "3 x 2 = 6\n",
      "3 x 3 = 9\n",
      "3 x 4 = 12\n",
      "3 x 5 = 15\n",
      "3 x 6 = 18\n",
      "3 x 7 = 21\n",
      "3 x 8 = 24\n",
      "3 x 9 = 27\n",
      "3 x 10 = 30\n"
     ]
    }
   ],
   "source": [
    "#9. Write a Python program to print the multiplication table of a given number using a while loop.\n",
    "\n",
    "num=int(input(\"Enter a number \"))\n",
    "i=1\n",
    "\n",
    "while i<11:\n",
    "    product = num*i\n",
    "    print(\"%d x %d = %d\" %(num,i,product))\n",
    "    i=i+1"
   ]
  },
  {
   "cell_type": "code",
   "execution_count": 17,
   "id": "9fbee08e",
   "metadata": {},
   "outputs": [
    {
     "name": "stdout",
     "output_type": "stream",
     "text": [
      "largest is  123\n"
     ]
    }
   ],
   "source": [
    "#14. Write a Python program to find the largest element in a list using a while loop\n",
    "\n",
    "lis=[2,55,45,47,123,6,44]\n",
    "l=len(lis)\n",
    "i=0\n",
    "max_val=[]\n",
    "while i<l-1:\n",
    "    if(lis[i]>lis[i+1]):\n",
    "        max_val = lis[i]\n",
    "    i=i+1\n",
    "print(\"largest is \",max_val)"
   ]
  },
  {
   "cell_type": "code",
   "execution_count": 4,
   "id": "4f66dc34",
   "metadata": {},
   "outputs": [
    {
     "name": "stdout",
     "output_type": "stream",
     "text": [
      "Enter ist number 12\n",
      "Enter 2nd number 8\n",
      "gcd = 4\n"
     ]
    }
   ],
   "source": [
    "#13. Write a Python program to find the greatest common divisor (GCD) of two numbers using a while loop.\n",
    "num1=int(input(\"Enter ist number \"))\n",
    "num2=int(input(\"Enter 2nd number \"))\n",
    "while num1<num2:\n",
    "    num1, num2 = num2, num1\n",
    "    num1=num1%num2\n",
    "else:\n",
    "    num1=num1%num2\n",
    "\n",
    "print(\"gcd =\", num1)"
   ]
  },
  {
   "cell_type": "code",
   "execution_count": 21,
   "id": "431a4fe9",
   "metadata": {},
   "outputs": [
    {
     "name": "stdout",
     "output_type": "stream",
     "text": [
      "Enter number 153\n",
      "3\n",
      "153 is an Armstrong number.\n"
     ]
    }
   ],
   "source": [
    "#12. Write a Python program to check if a given number is an Armstrong number using a while loop.\n",
    "num=int(input(\"Enter number \"))\n",
    "count = 0\n",
    "original_num = num\n",
    "temp = num\n",
    "while temp > 0:\n",
    "    temp //= 10\n",
    "    count += 1\n",
    "print(count)\n",
    "\n",
    "result=0\n",
    "temp = num\n",
    "while temp > 0:\n",
    "    digit = temp % 10\n",
    "    result =result + digit ** count\n",
    "    temp //= 10\n",
    "    if result == original_num:\n",
    "    print(f\"{original_num} is an Armstrong number.\")\n",
    "else:\n",
    "    print(f\"{original_num} is not an Armstrong number.\")"
   ]
  },
  {
   "cell_type": "code",
   "execution_count": 22,
   "id": "2af67631",
   "metadata": {},
   "outputs": [
    {
     "name": "stdout",
     "output_type": "stream",
     "text": [
      "Enter  number 3545757\n",
      "7\n"
     ]
    }
   ],
   "source": [
    "#16-Write a Python program to count the number of digits in a given integer using a while loop.\n",
    "\n",
    "num=int(input(\"Enter  number \"))\n",
    "\n",
    "count = 0\n",
    "while num > 0:\n",
    "    num //= 10\n",
    "    count += 1\n",
    "print(count)\n"
   ]
  },
  {
   "cell_type": "code",
   "execution_count": 4,
   "id": "5f33e7b6",
   "metadata": {},
   "outputs": [
    {
     "name": "stdout",
     "output_type": "stream",
     "text": [
      "Enter the  number: 3\n",
      "Enter the exponent: 2\n",
      "Number raised to the power of exponent is: 9.0\n"
     ]
    }
   ],
   "source": [
    "#11. Write a Python program that calculates the result of raising a given number to a specified power using a while loop.\n",
    "\n",
    "num = float(input(\"Enter the  number: \"))\n",
    "exponent = int(input(\"Enter the exponent: \"))\n",
    "\n",
    "result = 1\n",
    "\n",
    "while exponent > 0:\n",
    "    result = result*num\n",
    "    exponent = exponent - 1\n",
    "\n",
    "\n",
    "print(\"Number raised to the power of exponent is:\" , result)"
   ]
  },
  {
   "cell_type": "code",
   "execution_count": 2,
   "id": "30cdd36f",
   "metadata": {},
   "outputs": [
    {
     "name": "stdout",
     "output_type": "stream",
     "text": [
      "Enter the number of rows: 5\n",
      "* \n",
      "* * \n",
      "* * * \n",
      "* * * * \n",
      "* * * * * \n"
     ]
    }
   ],
   "source": [
    "#15. Write a Python program to print a pattern of asterisks using a while loop. For example, if the user enters 5, it should print:\n",
    "\n",
    "# *\n",
    "\n",
    "# **\n",
    "\n",
    "# ***\n",
    "\n",
    "# ****\n",
    "\n",
    "# *****\n",
    "\n",
    "num_rows = int(input(\"Enter the number of rows: \"))\n",
    "row = 1\n",
    "while row <= num_rows:\n",
    "    print('* ' * row)\n",
    "    row += 1"
   ]
  },
  {
   "cell_type": "markdown",
   "id": "1f8cc564",
   "metadata": {},
   "source": [
    "# "
   ]
  },
  {
   "cell_type": "code",
   "execution_count": 1,
   "id": "1a69721e",
   "metadata": {},
   "outputs": [
    {
     "ename": "TypeError",
     "evalue": "'module' object is not callable",
     "output_type": "error",
     "traceback": [
      "\u001b[1;31m---------------------------------------------------------------------------\u001b[0m",
      "\u001b[1;31mTypeError\u001b[0m                                 Traceback (most recent call last)",
      "Cell \u001b[1;32mIn[1], line 5\u001b[0m\n\u001b[0;32m      1\u001b[0m \u001b[38;5;66;03m#7. Create a simple number guessing game where the computer generates a random number\u001b[39;00m\n\u001b[0;32m      2\u001b[0m \u001b[38;5;66;03m#between 1 and 10 and the user has to guess it.\u001b[39;00m\n\u001b[0;32m      3\u001b[0m \u001b[38;5;66;03m#Provide hints whether the guess is too high or too low. Keep asking until the user guesses correctly.\u001b[39;00m\n\u001b[0;32m      4\u001b[0m \u001b[38;5;28;01mimport\u001b[39;00m \u001b[38;5;21;01mrandom\u001b[39;00m\n\u001b[1;32m----> 5\u001b[0m num\u001b[38;5;241m=\u001b[39mrandom(\u001b[38;5;241m10\u001b[39m)\n\u001b[0;32m      7\u001b[0m n\u001b[38;5;241m=\u001b[39m\u001b[38;5;28mint\u001b[39m(\u001b[38;5;28minput\u001b[39m(\u001b[38;5;124m\"\u001b[39m\u001b[38;5;124mEnter number between 1 and 10 :\u001b[39m\u001b[38;5;124m\"\u001b[39m))\n\u001b[0;32m      8\u001b[0m x\u001b[38;5;241m=\u001b[39m\u001b[38;5;241m10\u001b[39m\u001b[38;5;241m/\u001b[39m\u001b[38;5;241m2\u001b[39m\n",
      "\u001b[1;31mTypeError\u001b[0m: 'module' object is not callable"
     ]
    }
   ],
   "source": [
    "#7. Create a simple number guessing game where the computer generates a random number\n",
    "#between 1 and 10 and the user has to guess it.\n",
    "#Provide hints whether the guess is too high or too low. Keep asking until the user guesses correctly.\n",
    "import random\n",
    "num=random(10)\n",
    "\n",
    "n=int(input(\"Enter number between 1 and 10 :\"))\n",
    "x=10/2\n"
   ]
  },
  {
   "cell_type": "code",
   "execution_count": null,
   "id": "3da048b1",
   "metadata": {},
   "outputs": [],
   "source": []
  }
 ],
 "metadata": {
  "kernelspec": {
   "display_name": "Python 3 (ipykernel)",
   "language": "python",
   "name": "python3"
  },
  "language_info": {
   "codemirror_mode": {
    "name": "ipython",
    "version": 3
   },
   "file_extension": ".py",
   "mimetype": "text/x-python",
   "name": "python",
   "nbconvert_exporter": "python",
   "pygments_lexer": "ipython3",
   "version": "3.11.5"
  }
 },
 "nbformat": 4,
 "nbformat_minor": 5
}
